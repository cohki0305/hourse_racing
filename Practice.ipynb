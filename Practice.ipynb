{
 "cells": [
  {
   "cell_type": "code",
   "execution_count": 1,
   "metadata": {
    "collapsed": true
   },
   "outputs": [],
   "source": [
    "import numpy as np\n",
    "import pandas as pd"
   ]
  },
  {
   "cell_type": "code",
   "execution_count": 63,
   "metadata": {},
   "outputs": [
    {
     "name": "stderr",
     "output_type": "stream",
     "text": [
      "/Users/k-toda/.pyenv/versions/anaconda3-5.0.0/lib/python3.6/site-packages/IPython/core/interactiveshell.py:2698: DtypeWarning: Columns (23) have mixed types. Specify dtype option on import or set low_memory=False.\n",
      "  interactivity=interactivity, compiler=compiler, result=result)\n"
     ]
    }
   ],
   "source": [
    "df = pd.read_csv('data/jra_race_result.csv')\n",
    "df.dropna(inplace=True)"
   ]
  },
  {
   "cell_type": "code",
   "execution_count": 64,
   "metadata": {},
   "outputs": [],
   "source": [
    "df2 = df.loc[:, ['頭数', '斤量', '馬体重', '人気', 'オッズ', '調教評価']]"
   ]
  },
  {
   "cell_type": "code",
   "execution_count": 65,
   "metadata": {},
   "outputs": [
    {
     "data": {
      "text/html": [
       "<div>\n",
       "<style>\n",
       "    .dataframe thead tr:only-child th {\n",
       "        text-align: right;\n",
       "    }\n",
       "\n",
       "    .dataframe thead th {\n",
       "        text-align: left;\n",
       "    }\n",
       "\n",
       "    .dataframe tbody tr th {\n",
       "        vertical-align: top;\n",
       "    }\n",
       "</style>\n",
       "<table border=\"1\" class=\"dataframe\">\n",
       "  <thead>\n",
       "    <tr style=\"text-align: right;\">\n",
       "      <th></th>\n",
       "      <th>頭数</th>\n",
       "      <th>斤量</th>\n",
       "      <th>馬体重</th>\n",
       "      <th>人気</th>\n",
       "      <th>オッズ</th>\n",
       "      <th>調教評価</th>\n",
       "    </tr>\n",
       "  </thead>\n",
       "  <tbody>\n",
       "    <tr>\n",
       "      <th>14</th>\n",
       "      <td>16</td>\n",
       "      <td>54.0</td>\n",
       "      <td>448</td>\n",
       "      <td>9</td>\n",
       "      <td>48.6</td>\n",
       "      <td>2</td>\n",
       "    </tr>\n",
       "    <tr>\n",
       "      <th>25</th>\n",
       "      <td>16</td>\n",
       "      <td>54.0</td>\n",
       "      <td>458</td>\n",
       "      <td>10</td>\n",
       "      <td>36.8</td>\n",
       "      <td>3</td>\n",
       "    </tr>\n",
       "    <tr>\n",
       "      <th>31</th>\n",
       "      <td>16</td>\n",
       "      <td>54.0</td>\n",
       "      <td>432</td>\n",
       "      <td>14</td>\n",
       "      <td>151.2</td>\n",
       "      <td>3</td>\n",
       "    </tr>\n",
       "    <tr>\n",
       "      <th>77</th>\n",
       "      <td>16</td>\n",
       "      <td>54.0</td>\n",
       "      <td>468</td>\n",
       "      <td>12</td>\n",
       "      <td>40.6</td>\n",
       "      <td>3</td>\n",
       "    </tr>\n",
       "    <tr>\n",
       "      <th>91</th>\n",
       "      <td>16</td>\n",
       "      <td>56.0</td>\n",
       "      <td>512</td>\n",
       "      <td>15</td>\n",
       "      <td>357.3</td>\n",
       "      <td>3</td>\n",
       "    </tr>\n",
       "  </tbody>\n",
       "</table>\n",
       "</div>"
      ],
      "text/plain": [
       "    頭数    斤量  馬体重  人気    オッズ  調教評価\n",
       "14  16  54.0  448   9   48.6     2\n",
       "25  16  54.0  458  10   36.8     3\n",
       "31  16  54.0  432  14  151.2     3\n",
       "77  16  54.0  468  12   40.6     3\n",
       "91  16  56.0  512  15  357.3     3"
      ]
     },
     "execution_count": 65,
     "metadata": {},
     "output_type": "execute_result"
    }
   ],
   "source": [
    "class_mapping = {'A':1, 'B':2, 'C': 3, 'D': 4}\n",
    "X = df2.copy()\n",
    "# loc は行名や列名で位置を参照する。iloc は number で指定。\n",
    "X.loc[:, '調教評価'] = df2['調教評価'].map(class_mapping)\n",
    "X.head()"
   ]
  },
  {
   "cell_type": "code",
   "execution_count": 66,
   "metadata": {},
   "outputs": [
    {
     "data": {
      "text/html": [
       "<div>\n",
       "<style>\n",
       "    .dataframe thead tr:only-child th {\n",
       "        text-align: right;\n",
       "    }\n",
       "\n",
       "    .dataframe thead th {\n",
       "        text-align: left;\n",
       "    }\n",
       "\n",
       "    .dataframe tbody tr th {\n",
       "        vertical-align: top;\n",
       "    }\n",
       "</style>\n",
       "<table border=\"1\" class=\"dataframe\">\n",
       "  <thead>\n",
       "    <tr style=\"text-align: right;\">\n",
       "      <th></th>\n",
       "      <th>着順</th>\n",
       "    </tr>\n",
       "  </thead>\n",
       "  <tbody>\n",
       "    <tr>\n",
       "      <th>14</th>\n",
       "      <td>15</td>\n",
       "    </tr>\n",
       "    <tr>\n",
       "      <th>25</th>\n",
       "      <td>10</td>\n",
       "    </tr>\n",
       "    <tr>\n",
       "      <th>31</th>\n",
       "      <td>16</td>\n",
       "    </tr>\n",
       "    <tr>\n",
       "      <th>77</th>\n",
       "      <td>15</td>\n",
       "    </tr>\n",
       "    <tr>\n",
       "      <th>91</th>\n",
       "      <td>14</td>\n",
       "    </tr>\n",
       "  </tbody>\n",
       "</table>\n",
       "</div>"
      ],
      "text/plain": [
       "    着順\n",
       "14  15\n",
       "25  10\n",
       "31  16\n",
       "77  15\n",
       "91  14"
      ]
     },
     "execution_count": 66,
     "metadata": {},
     "output_type": "execute_result"
    }
   ],
   "source": [
    "y = df.iloc[:,[10]]\n",
    "y.head()"
   ]
  },
  {
   "cell_type": "code",
   "execution_count": 67,
   "metadata": {},
   "outputs": [
    {
     "data": {
      "text/plain": [
       "Pipeline(memory=None,\n",
       "     steps=[('scl', StandardScaler(copy=True, with_mean=True, with_std=True)), ('est', LogisticRegression(C=1.0, class_weight=None, dual=False, fit_intercept=True,\n",
       "          intercept_scaling=1, max_iter=100, multi_class='ovr', n_jobs=1,\n",
       "          penalty='l2', random_state=1, solver='liblinear', tol=0.0001,\n",
       "          verbose=0, warm_start=False))])"
      ]
     },
     "execution_count": 67,
     "metadata": {},
     "output_type": "execute_result"
    }
   ],
   "source": [
    "from sklearn.preprocessing import StandardScaler\n",
    "from sklearn.neighbors import KNeighborsClassifier\n",
    "from sklearn.linear_model import LogisticRegression\n",
    "from sklearn.pipeline import Pipeline\n",
    "from sklearn.model_selection import train_test_split\n",
    "\n",
    "# Holdout\n",
    "X_train,X_test,y_train,y_test = train_test_split(X, y, test_size=0.20)\n",
    "pipe_knn_5 = Pipeline([('scl',StandardScaler()),('est', KNeighborsClassifier())]) \n",
    "pipe_knn_50 = Pipeline([('scl',StandardScaler()),('est', KNeighborsClassifier(n_neighbors=50))])\n",
    "pipe_logistic = Pipeline([('scl',StandardScaler()),('est', LogisticRegression(random_state=1))])\n",
    "\n",
    "pipe_knn_5.fit(X_train,y_train.as_matrix().ravel())\n",
    "pipe_knn_50.fit(X_train,y_train.as_matrix().ravel())\n",
    "pipe_logistic.fit(X_train,y_train.as_matrix().ravel())"
   ]
  },
  {
   "cell_type": "code",
   "execution_count": 71,
   "metadata": {},
   "outputs": [
    {
     "name": "stdout",
     "output_type": "stream",
     "text": [
      "KNN(5)_Train: 0.346\n",
      "KNN(5)_Test: 0.108\n",
      "KNN(50)_Train: 0.180\n",
      "KNN(50)_Test: 0.102\n",
      "Logistic_Train: 0.128\n",
      "Logistic_Test: 0.119\n"
     ]
    }
   ],
   "source": [
    "from sklearn.metrics import accuracy_score\n",
    "\n",
    "print('KNN(5)_Train: %.3f' % accuracy_score(y_train, pipe_knn_5.predict(X_train)))\n",
    "print('KNN(5)_Test: %.3f' % accuracy_score(y_test, pipe_knn_5.predict(X_test)))\n",
    "\n",
    "print('KNN(50)_Train: %.3f' % accuracy_score(y_train, pipe_knn_50.predict(X_train)))\n",
    "print('KNN(50)_Test: %.3f' % accuracy_score(y_test, pipe_knn_50.predict(X_test)))\n",
    "\n",
    "print('Logistic_Train: %.3f' % accuracy_score(y_train, pipe_logistic.predict(X_train)))\n",
    "print('Logistic_Test: %.3f' % accuracy_score(y_test, pipe_logistic.predict(X_test)))"
   ]
  },
  {
   "cell_type": "code",
   "execution_count": null,
   "metadata": {
    "collapsed": true
   },
   "outputs": [],
   "source": []
  }
 ],
 "metadata": {
  "kernelspec": {
   "display_name": "Python 3",
   "language": "python",
   "name": "python3"
  },
  "language_info": {
   "codemirror_mode": {
    "name": "ipython",
    "version": 3
   },
   "file_extension": ".py",
   "mimetype": "text/x-python",
   "name": "python",
   "nbconvert_exporter": "python",
   "pygments_lexer": "ipython3",
   "version": "3.6.2"
  }
 },
 "nbformat": 4,
 "nbformat_minor": 2
}
