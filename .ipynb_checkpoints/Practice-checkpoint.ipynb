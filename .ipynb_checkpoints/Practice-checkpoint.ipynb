{
 "cells": [
  {
   "cell_type": "code",
   "execution_count": 6,
   "metadata": {
    "collapsed": true
   },
   "outputs": [],
   "source": [
    "import numpy as np\n",
    "import pandas as pd\n",
    "from sklearn.preprocessing import LabelEncoder"
   ]
  },
  {
   "cell_type": "code",
   "execution_count": 3,
   "metadata": {},
   "outputs": [
    {
     "name": "stderr",
     "output_type": "stream",
     "text": [
      "/Users/k-toda/.pyenv/versions/anaconda3-5.0.0/lib/python3.6/site-packages/IPython/core/interactiveshell.py:2698: DtypeWarning: Columns (23) have mixed types. Specify dtype option on import or set low_memory=False.\n",
      "  interactivity=interactivity, compiler=compiler, result=result)\n"
     ]
    }
   ],
   "source": [
    "df = pd.read_csv('data/jra_race_result.csv')\n",
    "df.dropna(inplace=True)"
   ]
  },
  {
   "cell_type": "code",
   "execution_count": 4,
   "metadata": {},
   "outputs": [
    {
     "data": {
      "text/plain": [
       "Index(['開催日', '競馬場', 'レース番号', 'レース名', 'コース', '周回', '距離', '馬場状態', '賞金', '頭数',\n",
       "       '着順', '枠番', '馬番', '馬名', '性別', '年齢', '騎手', 'タイム', '着差', '通過順', '上り3F',\n",
       "       '斤量', '馬体重', '増減', '人気', 'オッズ', 'ブリンカー', '調教師', '調教コメント', '調教評価'],\n",
       "      dtype='object')"
      ]
     },
     "execution_count": 4,
     "metadata": {},
     "output_type": "execute_result"
    }
   ],
   "source": [
    "df.columns"
   ]
  },
  {
   "cell_type": "code",
   "execution_count": 23,
   "metadata": {},
   "outputs": [
    {
     "data": {
      "text/html": [
       "<div>\n",
       "<style>\n",
       "    .dataframe thead tr:only-child th {\n",
       "        text-align: right;\n",
       "    }\n",
       "\n",
       "    .dataframe thead th {\n",
       "        text-align: left;\n",
       "    }\n",
       "\n",
       "    .dataframe tbody tr th {\n",
       "        vertical-align: top;\n",
       "    }\n",
       "</style>\n",
       "<table border=\"1\" class=\"dataframe\">\n",
       "  <thead>\n",
       "    <tr style=\"text-align: right;\">\n",
       "      <th></th>\n",
       "      <th>開催日</th>\n",
       "      <th>頭数</th>\n",
       "      <th>斤量</th>\n",
       "      <th>馬体重</th>\n",
       "      <th>人気</th>\n",
       "      <th>オッズ</th>\n",
       "      <th>調教評価</th>\n",
       "      <th>年齢</th>\n",
       "      <th>距離</th>\n",
       "      <th>馬名</th>\n",
       "      <th>性別</th>\n",
       "      <th>周回</th>\n",
       "      <th>レース名</th>\n",
       "      <th>競馬場</th>\n",
       "      <th>騎手</th>\n",
       "      <th>調教師</th>\n",
       "      <th>枠番</th>\n",
       "    </tr>\n",
       "  </thead>\n",
       "  <tbody>\n",
       "    <tr>\n",
       "      <th>14</th>\n",
       "      <td>0</td>\n",
       "      <td>16</td>\n",
       "      <td>54.0</td>\n",
       "      <td>448</td>\n",
       "      <td>9</td>\n",
       "      <td>48.6</td>\n",
       "      <td>1</td>\n",
       "      <td>3</td>\n",
       "      <td>1200</td>\n",
       "      <td>2528</td>\n",
       "      <td>1</td>\n",
       "      <td>0</td>\n",
       "      <td>120</td>\n",
       "      <td>1</td>\n",
       "      <td>153</td>\n",
       "      <td>173</td>\n",
       "      <td>1</td>\n",
       "    </tr>\n",
       "    <tr>\n",
       "      <th>25</th>\n",
       "      <td>0</td>\n",
       "      <td>16</td>\n",
       "      <td>54.0</td>\n",
       "      <td>458</td>\n",
       "      <td>10</td>\n",
       "      <td>36.8</td>\n",
       "      <td>2</td>\n",
       "      <td>3</td>\n",
       "      <td>1800</td>\n",
       "      <td>3218</td>\n",
       "      <td>1</td>\n",
       "      <td>0</td>\n",
       "      <td>120</td>\n",
       "      <td>1</td>\n",
       "      <td>38</td>\n",
       "      <td>18</td>\n",
       "      <td>8</td>\n",
       "    </tr>\n",
       "    <tr>\n",
       "      <th>31</th>\n",
       "      <td>0</td>\n",
       "      <td>16</td>\n",
       "      <td>54.0</td>\n",
       "      <td>432</td>\n",
       "      <td>14</td>\n",
       "      <td>151.2</td>\n",
       "      <td>2</td>\n",
       "      <td>3</td>\n",
       "      <td>1800</td>\n",
       "      <td>2869</td>\n",
       "      <td>1</td>\n",
       "      <td>0</td>\n",
       "      <td>120</td>\n",
       "      <td>1</td>\n",
       "      <td>45</td>\n",
       "      <td>73</td>\n",
       "      <td>1</td>\n",
       "    </tr>\n",
       "    <tr>\n",
       "      <th>77</th>\n",
       "      <td>0</td>\n",
       "      <td>16</td>\n",
       "      <td>54.0</td>\n",
       "      <td>468</td>\n",
       "      <td>12</td>\n",
       "      <td>40.6</td>\n",
       "      <td>2</td>\n",
       "      <td>3</td>\n",
       "      <td>2000</td>\n",
       "      <td>37</td>\n",
       "      <td>1</td>\n",
       "      <td>0</td>\n",
       "      <td>120</td>\n",
       "      <td>1</td>\n",
       "      <td>46</td>\n",
       "      <td>53</td>\n",
       "      <td>1</td>\n",
       "    </tr>\n",
       "    <tr>\n",
       "      <th>91</th>\n",
       "      <td>0</td>\n",
       "      <td>16</td>\n",
       "      <td>56.0</td>\n",
       "      <td>512</td>\n",
       "      <td>15</td>\n",
       "      <td>357.3</td>\n",
       "      <td>2</td>\n",
       "      <td>4</td>\n",
       "      <td>1800</td>\n",
       "      <td>910</td>\n",
       "      <td>2</td>\n",
       "      <td>0</td>\n",
       "      <td>123</td>\n",
       "      <td>1</td>\n",
       "      <td>49</td>\n",
       "      <td>13</td>\n",
       "      <td>7</td>\n",
       "    </tr>\n",
       "  </tbody>\n",
       "</table>\n",
       "</div>"
      ],
      "text/plain": [
       "    開催日  頭数    斤量  馬体重  人気    オッズ  調教評価  年齢    距離    馬名  性別  周回  レース名  競馬場  \\\n",
       "14    0  16  54.0  448   9   48.6     1   3  1200  2528   1   0   120    1   \n",
       "25    0  16  54.0  458  10   36.8     2   3  1800  3218   1   0   120    1   \n",
       "31    0  16  54.0  432  14  151.2     2   3  1800  2869   1   0   120    1   \n",
       "77    0  16  54.0  468  12   40.6     2   3  2000    37   1   0   120    1   \n",
       "91    0  16  56.0  512  15  357.3     2   4  1800   910   2   0   123    1   \n",
       "\n",
       "     騎手  調教師  枠番  \n",
       "14  153  173   1  \n",
       "25   38   18   8  \n",
       "31   45   73   1  \n",
       "77   46   53   1  \n",
       "91   49   13   7  "
      ]
     },
     "execution_count": 23,
     "metadata": {},
     "output_type": "execute_result"
    }
   ],
   "source": [
    "columns = ['開催日', '頭数', '斤量', '馬体重', '人気', 'オッズ', '調教評価', '年齢', '距離', '馬名', '性別', '周回', 'レース名', '競馬場', '騎手', '調教師', '枠番']\n",
    "df2 = df.loc[:, columns]\n",
    "cat = df2.dtypes.loc[df.dtypes=='object'].index\n",
    "le = LabelEncoder()\n",
    "for var in cat:\n",
    "    df2[var] = le.fit_transform(df2[var])\n",
    "\n",
    "df2.head()"
   ]
  },
  {
   "cell_type": "code",
   "execution_count": 24,
   "metadata": {},
   "outputs": [
    {
     "data": {
      "text/html": [
       "<div>\n",
       "<style>\n",
       "    .dataframe thead tr:only-child th {\n",
       "        text-align: right;\n",
       "    }\n",
       "\n",
       "    .dataframe thead th {\n",
       "        text-align: left;\n",
       "    }\n",
       "\n",
       "    .dataframe tbody tr th {\n",
       "        vertical-align: top;\n",
       "    }\n",
       "</style>\n",
       "<table border=\"1\" class=\"dataframe\">\n",
       "  <thead>\n",
       "    <tr style=\"text-align: right;\">\n",
       "      <th></th>\n",
       "      <th>着順</th>\n",
       "    </tr>\n",
       "  </thead>\n",
       "  <tbody>\n",
       "    <tr>\n",
       "      <th>14</th>\n",
       "      <td>15</td>\n",
       "    </tr>\n",
       "    <tr>\n",
       "      <th>25</th>\n",
       "      <td>10</td>\n",
       "    </tr>\n",
       "    <tr>\n",
       "      <th>31</th>\n",
       "      <td>16</td>\n",
       "    </tr>\n",
       "    <tr>\n",
       "      <th>77</th>\n",
       "      <td>15</td>\n",
       "    </tr>\n",
       "    <tr>\n",
       "      <th>91</th>\n",
       "      <td>14</td>\n",
       "    </tr>\n",
       "  </tbody>\n",
       "</table>\n",
       "</div>"
      ],
      "text/plain": [
       "    着順\n",
       "14  15\n",
       "25  10\n",
       "31  16\n",
       "77  15\n",
       "91  14"
      ]
     },
     "execution_count": 24,
     "metadata": {},
     "output_type": "execute_result"
    }
   ],
   "source": [
    "y = df.iloc[:,[10]]\n",
    "y.head()"
   ]
  },
  {
   "cell_type": "code",
   "execution_count": 25,
   "metadata": {},
   "outputs": [
    {
     "data": {
      "text/plain": [
       "Pipeline(memory=None,\n",
       "     steps=[('scl', StandardScaler(copy=True, with_mean=True, with_std=True)), ('est', LogisticRegression(C=1.0, class_weight=None, dual=False, fit_intercept=True,\n",
       "          intercept_scaling=1, max_iter=100, multi_class='ovr', n_jobs=1,\n",
       "          penalty='l2', random_state=1, solver='liblinear', tol=0.0001,\n",
       "          verbose=0, warm_start=False))])"
      ]
     },
     "execution_count": 25,
     "metadata": {},
     "output_type": "execute_result"
    }
   ],
   "source": [
    "from sklearn.preprocessing import StandardScaler\n",
    "from sklearn.neighbors import KNeighborsClassifier\n",
    "from sklearn.linear_model import LogisticRegression\n",
    "from sklearn.pipeline import Pipeline\n",
    "from sklearn.model_selection import train_test_split\n",
    "\n",
    "# Holdout\n",
    "X_train,X_test,y_train,y_test = train_test_split(X, y, test_size=0.20)\n",
    "pipe_knn_5 = Pipeline([('scl',StandardScaler()),('est', KNeighborsClassifier())]) \n",
    "pipe_knn_50 = Pipeline([('scl',StandardScaler()),('est', KNeighborsClassifier(n_neighbors=50))])\n",
    "pipe_logistic = Pipeline([('scl',StandardScaler()),('est', LogisticRegression(random_state=1))])\n",
    "\n",
    "pipe_knn_5.fit(X_train,y_train.as_matrix().ravel())\n",
    "pipe_knn_50.fit(X_train,y_train.as_matrix().ravel())\n",
    "pipe_logistic.fit(X_train,y_train.as_matrix().ravel())"
   ]
  },
  {
   "cell_type": "code",
   "execution_count": 27,
   "metadata": {},
   "outputs": [
    {
     "name": "stdout",
     "output_type": "stream",
     "text": [
      "OLS_train: 0.297535\n",
      "OLS_test: 0.315672\n",
      "Ridge_train: 0.297535\n",
      "Ridge_test: 0.315669\n",
      "RandomForest_train: 0.858458\n",
      "RandomForest_test: 0.229243\n",
      "GradinetBoostingRegressor_train: 0.338224\n",
      "GradinetBoostingRegressor_test: 0.315474\n",
      "MLPRegressor_train: 0.340914\n",
      "MLPRegressor_test: 0.311164\n"
     ]
    }
   ],
   "source": [
    "from sklearn.linear_model import LinearRegression, Ridge\n",
    "from sklearn.ensemble import RandomForestRegressor, GradientBoostingRegressor\n",
    "from sklearn.neural_network import MLPRegressor\n",
    "from sklearn.pipeline import Pipeline\n",
    "from sklearn.metrics import r2_score\n",
    "\n",
    "pipe_ols = Pipeline([('scl',StandardScaler()), ('est',LinearRegression())])\n",
    "pipe_ridge = Pipeline([('scl',StandardScaler()), ('est',Ridge())])\n",
    "pipe_rf = Pipeline([('scl',StandardScaler()), ('est',RandomForestRegressor())])\n",
    "pipe_gbr = Pipeline([('scl', StandardScaler()), ('est',GradientBoostingRegressor())])\n",
    "pipe_mlp = Pipeline([('scl', StandardScaler()), ('est', MLPRegressor())])\n",
    "\n",
    "pipe_ols.fit(X_train, y_train.as_matrix().ravel())\n",
    "pipe_ridge.fit(X_train, y_train.as_matrix().ravel())\n",
    "pipe_rf.fit(X_train, y_train.as_matrix().ravel())\n",
    "pipe_gbr.fit(X_train, y_train.as_matrix().ravel())\n",
    "pipe_mlp.fit(X_train, y_train.as_matrix().ravel())\n",
    "\n",
    "print('OLS_train: %.6f' % r2_score(y_train, pipe_ols.predict(X_train)))\n",
    "print('OLS_test: %.6f' % r2_score(y_test, pipe_ols.predict(X_test)))\n",
    "\n",
    "print('Ridge_train: %.6f' % r2_score(y_train, pipe_ridge.predict(X_train)))\n",
    "print('Ridge_test: %.6f' % r2_score(y_test, pipe_ridge.predict(X_test)))\n",
    "\n",
    "print('RandomForest_train: %.6f' % r2_score(y_train, pipe_rf.predict(X_train)))\n",
    "print('RandomForest_test: %.6f' % r2_score(y_test, pipe_rf.predict(X_test)))\n",
    "\n",
    "print('GradinetBoostingRegressor_train: %.6f' % r2_score(y_train, pipe_gbr.predict(X_train)))\n",
    "print('GradinetBoostingRegressor_test: %.6f' % r2_score(y_test, pipe_gbr.predict(X_test)))\n",
    "\n",
    "print('MLPRegressor_train: %.6f' % r2_score(y_train, pipe_mlp.predict(X_train)))\n",
    "print('MLPRegressor_test: %.6f' % r2_score(y_test, pipe_mlp.predict(X_test)))"
   ]
  },
  {
   "cell_type": "code",
   "execution_count": null,
   "metadata": {
    "collapsed": true
   },
   "outputs": [],
   "source": []
  },
  {
   "cell_type": "code",
   "execution_count": null,
   "metadata": {
    "collapsed": true
   },
   "outputs": [],
   "source": []
  }
 ],
 "metadata": {
  "kernelspec": {
   "display_name": "Python 3",
   "language": "python",
   "name": "python3"
  },
  "language_info": {
   "codemirror_mode": {
    "name": "ipython",
    "version": 3
   },
   "file_extension": ".py",
   "mimetype": "text/x-python",
   "name": "python",
   "nbconvert_exporter": "python",
   "pygments_lexer": "ipython3",
   "version": "3.6.2"
  }
 },
 "nbformat": 4,
 "nbformat_minor": 2
}
