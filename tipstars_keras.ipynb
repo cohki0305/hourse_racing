{
 "cells": [
  {
   "cell_type": "code",
   "execution_count": 8,
   "metadata": {},
   "outputs": [],
   "source": [
    "import numpy as np\n",
    "import pandas as pd\n",
    "import preprocess\n",
    "from keras.models import Sequential\n",
    "from keras.layers import Dense\n",
    "from sklearn.model_selection import train_test_split"
   ]
  },
  {
   "cell_type": "code",
   "execution_count": 9,
   "metadata": {},
   "outputs": [],
   "source": [
    "X, y = preprocess.data()\n",
    "X_train,X_test,y_train,y_test = train_test_split(X, y, test_size=0.20)\n",
    "X_train = np.array(X_train)\n",
    "X_test = np.array(X_test)"
   ]
  },
  {
   "cell_type": "code",
   "execution_count": 10,
   "metadata": {},
   "outputs": [
    {
     "data": {
      "text/plain": [
       "array([    1,     2,     3, ..., 38246, 38247, 38248])"
      ]
     },
     "execution_count": 10,
     "metadata": {},
     "output_type": "execute_result"
    }
   ],
   "source": [
    "X.shape\n",
    "X.index.values"
   ]
  },
  {
   "cell_type": "code",
   "execution_count": 11,
   "metadata": {
    "collapsed": true
   },
   "outputs": [],
   "source": [
    "model = Sequential()"
   ]
  },
  {
   "cell_type": "code",
   "execution_count": 12,
   "metadata": {
    "collapsed": true
   },
   "outputs": [],
   "source": [
    "model.add(Dense(10, input_dim=5, kernel_initializer='normal', activation='relu'))\n",
    "model.add(Dense(1, kernel_initializer='normal', activation='sigmoid'))"
   ]
  },
  {
   "cell_type": "code",
   "execution_count": 13,
   "metadata": {
    "collapsed": true
   },
   "outputs": [],
   "source": [
    "model.compile(loss='binary_crossentropy', optimizer='adam', metrics=['accuracy'])"
   ]
  },
  {
   "cell_type": "code",
   "execution_count": 19,
   "metadata": {},
   "outputs": [
    {
     "name": "stdout",
     "output_type": "stream",
     "text": [
      "Epoch 1/10\n",
      "30598/30598 [==============================] - 2s - loss: 0.4891 - acc: 0.7998     \n",
      "Epoch 2/10\n",
      "30598/30598 [==============================] - 2s - loss: 0.4897 - acc: 0.7997     \n",
      "Epoch 3/10\n",
      "30598/30598 [==============================] - 2s - loss: 0.4890 - acc: 0.7998     \n",
      "Epoch 4/10\n",
      "30598/30598 [==============================] - 2s - loss: 0.4887 - acc: 0.7998     \n",
      "Epoch 5/10\n",
      "30598/30598 [==============================] - 2s - loss: 0.4890 - acc: 0.7998     \n",
      "Epoch 6/10\n",
      "30598/30598 [==============================] - 2s - loss: 0.4883 - acc: 0.7997     \n",
      "Epoch 7/10\n",
      "30598/30598 [==============================] - 2s - loss: 0.4894 - acc: 0.7997     \n",
      "Epoch 8/10\n",
      "30598/30598 [==============================] - 2s - loss: 0.4883 - acc: 0.7999     \n",
      "Epoch 9/10\n",
      "30598/30598 [==============================] - 2s - loss: 0.4889 - acc: 0.7998     \n",
      "Epoch 10/10\n",
      "30598/30598 [==============================] - 2s - loss: 0.4886 - acc: 0.7998     \n"
     ]
    },
    {
     "data": {
      "text/plain": [
       "<keras.callbacks.History at 0x1c188aff98>"
      ]
     },
     "execution_count": 19,
     "metadata": {},
     "output_type": "execute_result"
    }
   ],
   "source": [
    "model.fit(X_train, y_train, batch_size=32)"
   ]
  },
  {
   "cell_type": "code",
   "execution_count": 15,
   "metadata": {},
   "outputs": [
    {
     "name": "stdout",
     "output_type": "stream",
     "text": [
      "7328/7650 [===========================>..] - ETA: 0s"
     ]
    },
    {
     "data": {
      "text/plain": [
       "0.79647058823529415"
      ]
     },
     "execution_count": 15,
     "metadata": {},
     "output_type": "execute_result"
    }
   ],
   "source": [
    "score = model.evaluate(X_test, y_test)\n",
    "score[1]"
   ]
  },
  {
   "cell_type": "code",
   "execution_count": null,
   "metadata": {
    "collapsed": true
   },
   "outputs": [],
   "source": []
  }
 ],
 "metadata": {
  "kernelspec": {
   "display_name": "Python 3",
   "language": "python",
   "name": "python3"
  },
  "language_info": {
   "codemirror_mode": {
    "name": "ipython",
    "version": 3
   },
   "file_extension": ".py",
   "mimetype": "text/x-python",
   "name": "python",
   "nbconvert_exporter": "python",
   "pygments_lexer": "ipython3",
   "version": "3.6.2"
  }
 },
 "nbformat": 4,
 "nbformat_minor": 2
}
