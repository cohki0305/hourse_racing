{
 "cells": [
  {
   "cell_type": "code",
   "execution_count": 31,
   "metadata": {
    "slideshow": {
     "slide_type": "-"
    }
   },
   "outputs": [],
   "source": [
    "import numpy as np\n",
    "import pandas as pd\n",
    "from keras.models import Sequential\n",
    "from keras.layers import Dense\n",
    "from sklearn.model_selection import train_test_split\n",
    "from sklearn.preprocessing import LabelEncoder"
   ]
  },
  {
   "cell_type": "code",
   "execution_count": 32,
   "metadata": {},
   "outputs": [
    {
     "data": {
      "text/html": [
       "<div>\n",
       "<style>\n",
       "    .dataframe thead tr:only-child th {\n",
       "        text-align: right;\n",
       "    }\n",
       "\n",
       "    .dataframe thead th {\n",
       "        text-align: left;\n",
       "    }\n",
       "\n",
       "    .dataframe tbody tr th {\n",
       "        vertical-align: top;\n",
       "    }\n",
       "</style>\n",
       "<table border=\"1\" class=\"dataframe\">\n",
       "  <thead>\n",
       "    <tr style=\"text-align: right;\">\n",
       "      <th></th>\n",
       "      <th>ID</th>\n",
       "      <th>Tipster</th>\n",
       "      <th>Date</th>\n",
       "      <th>Track</th>\n",
       "      <th>Horse</th>\n",
       "      <th>Bet Type</th>\n",
       "      <th>Odds</th>\n",
       "      <th>Result</th>\n",
       "      <th>TipsterActive</th>\n",
       "    </tr>\n",
       "    <tr>\n",
       "      <th>UID</th>\n",
       "      <th></th>\n",
       "      <th></th>\n",
       "      <th></th>\n",
       "      <th></th>\n",
       "      <th></th>\n",
       "      <th></th>\n",
       "      <th></th>\n",
       "      <th></th>\n",
       "      <th></th>\n",
       "    </tr>\n",
       "  </thead>\n",
       "  <tbody>\n",
       "    <tr>\n",
       "      <th>1</th>\n",
       "      <td>1</td>\n",
       "      <td>Tipster A</td>\n",
       "      <td>24/07/2015</td>\n",
       "      <td>Ascot</td>\n",
       "      <td>Fredricka</td>\n",
       "      <td>Win</td>\n",
       "      <td>8.00</td>\n",
       "      <td>Lose</td>\n",
       "      <td>True</td>\n",
       "    </tr>\n",
       "    <tr>\n",
       "      <th>2</th>\n",
       "      <td>2</td>\n",
       "      <td>Tipster A</td>\n",
       "      <td>24/07/2015</td>\n",
       "      <td>Thirsk</td>\n",
       "      <td>Spend A Penny</td>\n",
       "      <td>Win</td>\n",
       "      <td>4.50</td>\n",
       "      <td>Lose</td>\n",
       "      <td>True</td>\n",
       "    </tr>\n",
       "    <tr>\n",
       "      <th>3</th>\n",
       "      <td>3</td>\n",
       "      <td>Tipster A</td>\n",
       "      <td>24/07/2015</td>\n",
       "      <td>York</td>\n",
       "      <td>Straightothepoint</td>\n",
       "      <td>Win</td>\n",
       "      <td>7.00</td>\n",
       "      <td>Lose</td>\n",
       "      <td>True</td>\n",
       "    </tr>\n",
       "    <tr>\n",
       "      <th>4</th>\n",
       "      <td>4</td>\n",
       "      <td>Tipster A</td>\n",
       "      <td>24/07/2015</td>\n",
       "      <td>Newmarket</td>\n",
       "      <td>Miss Inga Sock</td>\n",
       "      <td>Win</td>\n",
       "      <td>5.00</td>\n",
       "      <td>Lose</td>\n",
       "      <td>True</td>\n",
       "    </tr>\n",
       "    <tr>\n",
       "      <th>5</th>\n",
       "      <td>5</td>\n",
       "      <td>Tipster A</td>\n",
       "      <td>25/07/2015</td>\n",
       "      <td>Ascot</td>\n",
       "      <td>Peril</td>\n",
       "      <td>Win</td>\n",
       "      <td>4.33</td>\n",
       "      <td>Win</td>\n",
       "      <td>True</td>\n",
       "    </tr>\n",
       "  </tbody>\n",
       "</table>\n",
       "</div>"
      ],
      "text/plain": [
       "     ID    Tipster        Date      Track              Horse Bet Type  Odds  \\\n",
       "UID                                                                           \n",
       "1     1  Tipster A  24/07/2015      Ascot          Fredricka      Win  8.00   \n",
       "2     2  Tipster A  24/07/2015     Thirsk      Spend A Penny      Win  4.50   \n",
       "3     3  Tipster A  24/07/2015       York  Straightothepoint      Win  7.00   \n",
       "4     4  Tipster A  24/07/2015  Newmarket     Miss Inga Sock      Win  5.00   \n",
       "5     5  Tipster A  25/07/2015      Ascot              Peril      Win  4.33   \n",
       "\n",
       "    Result  TipsterActive  \n",
       "UID                        \n",
       "1     Lose           True  \n",
       "2     Lose           True  \n",
       "3     Lose           True  \n",
       "4     Lose           True  \n",
       "5      Win           True  "
      ]
     },
     "execution_count": 32,
     "metadata": {},
     "output_type": "execute_result"
    }
   ],
   "source": [
    "df = pd.read_csv('./data/tips.csv',index_col='UID',encoding = \"ISO-8859-1\")\n",
    "df.head()"
   ]
  },
  {
   "cell_type": "code",
   "execution_count": 33,
   "metadata": {
    "collapsed": true
   },
   "outputs": [],
   "source": [
    "cat_var = df.dtypes.loc[df.dtypes=='object'].index\n",
    "\n",
    "le = LabelEncoder()\n",
    "for var in cat_var:\n",
    "    df[var] = le.fit_transform(df[var])"
   ]
  },
  {
   "cell_type": "code",
   "execution_count": 34,
   "metadata": {},
   "outputs": [],
   "source": [
    "X = df[['Tipster', 'Track', 'Horse', 'Bet Type', 'Odds']].values\n",
    "y = df.Result.values"
   ]
  },
  {
   "cell_type": "code",
   "execution_count": 35,
   "metadata": {
    "collapsed": true
   },
   "outputs": [],
   "source": [
    "X_train,X_test,y_train,y_test = train_test_split(X, y, test_size=0.20)"
   ]
  },
  {
   "cell_type": "code",
   "execution_count": 42,
   "metadata": {},
   "outputs": [
    {
     "name": "stdout",
     "output_type": "stream",
     "text": [
      "(30598, 5)\n",
      "(7650, 5)\n"
     ]
    }
   ],
   "source": [
    "print(X_train.shape)\n",
    "print(X_test.shape)"
   ]
  },
  {
   "cell_type": "code",
   "execution_count": 37,
   "metadata": {
    "collapsed": true
   },
   "outputs": [],
   "source": [
    "model = Sequential()"
   ]
  },
  {
   "cell_type": "code",
   "execution_count": 38,
   "metadata": {
    "collapsed": true
   },
   "outputs": [],
   "source": [
    "model.add(Dense(10, input_dim=5, kernel_initializer='normal', activation='relu'))\n",
    "model.add(Dense(1, kernel_initializer='normal', activation='sigmoid'))"
   ]
  },
  {
   "cell_type": "code",
   "execution_count": 39,
   "metadata": {
    "collapsed": true
   },
   "outputs": [],
   "source": [
    "model.compile(loss='binary_crossentropy', optimizer='adam', metrics=['accuracy'])"
   ]
  },
  {
   "cell_type": "code",
   "execution_count": 43,
   "metadata": {},
   "outputs": [
    {
     "name": "stdout",
     "output_type": "stream",
     "text": [
      "Epoch 1/10\n",
      "30598/30598 [==============================] - 2s - loss: 0.4944 - acc: 0.7983     \n",
      "Epoch 2/10\n",
      "30598/30598 [==============================] - 2s - loss: 0.4933 - acc: 0.7985     \n",
      "Epoch 3/10\n",
      "30598/30598 [==============================] - 2s - loss: 0.4940 - acc: 0.7986     \n",
      "Epoch 4/10\n",
      "30598/30598 [==============================] - 2s - loss: 0.4933 - acc: 0.7985     \n",
      "Epoch 5/10\n",
      "30598/30598 [==============================] - 2s - loss: 0.4934 - acc: 0.7985     \n",
      "Epoch 6/10\n",
      "30598/30598 [==============================] - 2s - loss: 0.4942 - acc: 0.7985     \n",
      "Epoch 7/10\n",
      "30598/30598 [==============================] - 2s - loss: 0.4935 - acc: 0.7985     \n",
      "Epoch 8/10\n",
      "30598/30598 [==============================] - 2s - loss: 0.4926 - acc: 0.7985     \n",
      "Epoch 9/10\n",
      "30598/30598 [==============================] - 2s - loss: 0.4946 - acc: 0.7985     \n",
      "Epoch 10/10\n",
      "30598/30598 [==============================] - 2s - loss: 0.4928 - acc: 0.7985     \n"
     ]
    },
    {
     "data": {
      "text/plain": [
       "<keras.callbacks.History at 0x1c1c0a8b00>"
      ]
     },
     "execution_count": 43,
     "metadata": {},
     "output_type": "execute_result"
    }
   ],
   "source": [
    "model.fit(X_train, y_train)"
   ]
  },
  {
   "cell_type": "code",
   "execution_count": 47,
   "metadata": {},
   "outputs": [
    {
     "name": "stdout",
     "output_type": "stream",
     "text": [
      "5536/7650 [====================>.........] - ETA: 0s"
     ]
    },
    {
     "data": {
      "text/plain": [
       "0.80143790849673202"
      ]
     },
     "execution_count": 47,
     "metadata": {},
     "output_type": "execute_result"
    }
   ],
   "source": [
    "score = model.evaluate(X_test, y_test)\n",
    "score[1]"
   ]
  },
  {
   "cell_type": "code",
   "execution_count": null,
   "metadata": {
    "collapsed": true
   },
   "outputs": [],
   "source": []
  }
 ],
 "metadata": {
  "kernelspec": {
   "display_name": "Python 3",
   "language": "python",
   "name": "python3"
  },
  "language_info": {
   "codemirror_mode": {
    "name": "ipython",
    "version": 3
   },
   "file_extension": ".py",
   "mimetype": "text/x-python",
   "name": "python",
   "nbconvert_exporter": "python",
   "pygments_lexer": "ipython3",
   "version": "3.6.2"
  }
 },
 "nbformat": 4,
 "nbformat_minor": 2
}
